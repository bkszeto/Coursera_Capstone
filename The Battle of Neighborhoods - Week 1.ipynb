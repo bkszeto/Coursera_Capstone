{
 "cells": [
  {
   "cell_type": "markdown",
   "metadata": {},
   "source": [
    "# The Battle of the Neighborhoods - Week 1"
   ]
  },
  {
   "cell_type": "markdown",
   "metadata": {},
   "source": [
    "## Introduction and Business Problem:"
   ]
  },
  {
   "cell_type": "markdown",
   "metadata": {},
   "source": [
    "## Problem Background"
   ]
  },
  {
   "cell_type": "markdown",
   "metadata": {},
   "source": [
    "The City of Houston is America's fourth most populous city, trailing New York, Los Angeles, and Chicago. Houston is alive with energy and rich in diversity. As the most ethnically diverse city in America, Houston has much to offer in the form of food, culture and entertainment. Home to a vibrant economy, beautiful surroundings and a population full of optimism and spirit, it's no wonder that Houston is a popular international destination. The city is a global hub for business and commerce, and in particular, a sprawling mecca for the Energy and Medical sectors. \n",
    "\n",
    "As such, venues catering to the workforce, visitors and students of these sectors continue to see rapid growth and even higher competition. Any new business venture seeking to tap into this opportunity should perform the proper analysis and planning. The insights derived from from analysis will help to develop a sound business plan and marketing strategy, not only to be successful, but also to minimize the risk associated with such a venture. "
   ]
  },
  {
   "cell_type": "markdown",
   "metadata": {},
   "source": [
    "## Problem Description"
   ]
  },
  {
   "cell_type": "markdown",
   "metadata": {},
   "source": [
    "Houston is a city of eats, plain and simple. With a plenthora of restaurants, cafes, food trucks and eateries covering all cuisines imaginable,  a restaurant looking to open its doors needs choose a location strategically and wisely. As a restaurant entrepreneur, you are looking to open a new restaurant to specifically tap into the Energy, Medical, or both sectors' dining needs. In order for your new endeavour to  survive and thrive, the following factors needs to be studied in order to decide on a proper location. These include:\n",
    "\n",
    "1. Location of the Energy Corridor and Medical Center\n",
    "2. Houston Demographics\n",
    "3. Segmentation of districts\n",
    "3. Types of available cuisines and menus surrounding the Energy and Medical hubs\n",
    "4. Who are the competitors in these locations\n",
    "5. Availability of associated venues, such as gyms, entertainment, parks\n",
    "6. Availability of food suppliers, farmer's markets, etc. in order to maintain quality and costs, as well as advertise freshness and quality of ingredients\n",
    " \n",
    "The list is endless...\n",
    "\n",
    "The funding for the restaurant is secure and the stakeholder, Yummy-Yummy, Inc., is willing to endure troubles at the onset of the venture to build a thriving business. The first step is crucial - choosing the location needs to be carefully analyzed and planned out so that future expansion is possible. "
   ]
  },
  {
   "cell_type": "markdown",
   "metadata": {},
   "source": [
    "## Target Audience"
   ]
  },
  {
   "cell_type": "markdown",
   "metadata": {},
   "source": [
    "As the appointed lead of the Data Science Team, the objective is analyze the three main ares of the city for the target clientele of the Energy and Medical centers: The Energy Corridor, Downtown Houston, and the Texas Medical Center, and provide a recommendation for the location of the pioneering restaurant. In addition, a recommendation for the type of cuisine is also necessary. "
   ]
  },
  {
   "cell_type": "markdown",
   "metadata": {},
   "source": [
    "## Successful Criteria"
   ]
  },
  {
   "cell_type": "markdown",
   "metadata": {},
   "source": [
    "The success criteria for the project will be dependent upon a good recommendation of neighborhood in any of the three target areas and based upon the surrounding competition and opportunity for growth and success. "
   ]
  }
 ],
 "metadata": {
  "kernelspec": {
   "display_name": "Python",
   "language": "python",
   "name": "conda-env-python-py"
  },
  "language_info": {
   "codemirror_mode": {
    "name": "ipython",
    "version": 3
   },
   "file_extension": ".py",
   "mimetype": "text/x-python",
   "name": "python",
   "nbconvert_exporter": "python",
   "pygments_lexer": "ipython3",
   "version": "3.6.7"
  }
 },
 "nbformat": 4,
 "nbformat_minor": 4
}
